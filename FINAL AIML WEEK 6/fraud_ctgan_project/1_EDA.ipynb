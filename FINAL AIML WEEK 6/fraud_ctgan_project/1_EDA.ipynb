{
 "cells": [
  {
   "cell_type": "code",
   "execution_count": null,
   "id": "62853dea",
   "metadata": {
    "vscode": {
     "languageId": "plaintext"
    }
   },
   "outputs": [],
   "source": [
    "import os\n",
    "import pandas as pd\n",
    "import matplotlib.pyplot as plt\n",
    "import seaborn as sns\n",
    "\n",
    "os.makedirs('plots', exist_ok=True)  # create folder if not exists\n",
    "\n",
    "# Load data\n",
    "df = pd.read_csv('data/creditcard.csv')\n",
    "\n",
    "# Overview\n",
    "print(\"Shape:\", df.shape)\n",
    "print(df.head())\n",
    "\n",
    "# Class balance\n",
    "print(\"\\nClass distribution:\")\n",
    "print(df['Class'].value_counts())\n",
    "\n",
    "# Plot class imbalance\n",
    "plt.figure(figsize=(6,4))\n",
    "sns.countplot(x='Class', data=df)\n",
    "plt.title(\"Class Imbalance\")\n",
    "plt.savefig('plots/class_imbalance.png')  # save screenshot here\n",
    "plt.show()\n",
    "\n",
    "# Basic statistics\n",
    "print(\"\\nData description:\")\n",
    "print(df.describe())\n",
    "\n",
    "# Correlation heatmap\n",
    "plt.figure(figsize=(12,8))\n",
    "sns.heatmap(df.corr(), cmap='coolwarm', annot=False)\n",
    "plt.title(\"Correlation Heatmap\")\n",
    "plt.savefig('plots/correlation_heatmap.png')  # save screenshot here\n",
    "plt.show()\n"
   ]
  }
 ],
 "metadata": {
  "language_info": {
   "name": "python"
  }
 },
 "nbformat": 4,
 "nbformat_minor": 5
}
